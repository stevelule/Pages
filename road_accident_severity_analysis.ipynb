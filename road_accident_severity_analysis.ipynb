{
  "nbformat": 4,
  "nbformat_minor": 0,
  "metadata": {
    "colab": {
      "provenance": [],
      "authorship_tag": "ABX9TyMxKmts2WrIt3uJL+nme84n",
      "include_colab_link": true
    },
    "kernelspec": {
      "name": "python3",
      "display_name": "Python 3"
    },
    "language_info": {
      "name": "python"
    }
  },
  "cells": [
    {
      "cell_type": "markdown",
      "metadata": {
        "id": "view-in-github",
        "colab_type": "text"
      },
      "source": [
        "<a href=\"https://colab.research.google.com/github/stevelule/Pages/blob/main/road_accident_severity_analysis.ipynb\" target=\"_parent\"><img src=\"https://colab.research.google.com/assets/colab-badge.svg\" alt=\"Open In Colab\"/></a>"
      ]
    },
    {
      "cell_type": "code",
      "execution_count": 10,
      "metadata": {
        "id": "JyQmrRpXu8wX",
        "colab": {
          "base_uri": "https://localhost:8080/"
        },
        "outputId": "1b70442b-f340-40f3-f914-1f56c887b600"
      },
      "outputs": [
        {
          "output_type": "stream",
          "name": "stdout",
          "text": [
            "✅ Model trained successfully!\n",
            "💾 Model saved successfully as road_accident_model.pkl\n",
            "🚗 Predicted Accident Severity: 1.92\n"
          ]
        }
      ],
      "source": [
        "\n",
        "import pandas as pd\n",
        "\n",
        "\n",
        "data = {\n",
        "    'Vehicle_Speed': [40, 60, 80, 100, 55, 70, 90, 120],\n",
        "    'Weather_Condition': [1, 2, 1, 3, 1, 2, 2, 3],\n",
        "    'Road_Surface': [1, 2, 1, 3, 2, 2, 3, 3],\n",
        "    'Light_Condition': [1, 1, 2, 2, 1, 2, 1, 2],\n",
        "    'Driver_Age': [22, 45, 36, 60, 28, 40, 31, 50],\n",
        "    'Num_of_Vehicles': [1, 2, 1, 3, 2, 2, 1, 3],\n",
        "    'Accident_Severity': [1, 2, 2, 3, 1, 2, 2, 3]\n",
        "}\n",
        "\n",
        "\n",
        "df = pd.DataFrame(data)\n",
        "\n",
        "df.head()\n",
        "\n",
        "\n",
        "X = df[['Vehicle_Speed', 'Weather_Condition', 'Road_Surface', 'Light_Condition', 'Driver_Age', 'Num_of_Vehicles']]\n",
        "y = df['Accident_Severity']\n",
        "\n",
        "from sklearn.model_selection import train_test_split\n",
        "from sklearn.linear_model import LinearRegression\n",
        "\n",
        "\n",
        "X_train, X_test, y_train, y_test = train_test_split(X, y, test_size=0.25, random_state=42)\n",
        "\n",
        "model = LinearRegression()\n",
        "model.fit(X_train, y_train)\n",
        "\n",
        "print(\"✅ Model trained successfully!\")\n",
        "\n",
        "import joblib\n",
        "\n",
        "\n",
        "joblib.dump(model, 'road_accident_model.pkl')\n",
        "\n",
        "print(\"💾 Model saved successfully as road_accident_model.pkl\")\n",
        "\n",
        "\n",
        "new_data = pd.DataFrame({\n",
        "    'Vehicle_Speed': [85],\n",
        "    'Weather_Condition': [2],  # Rainy\n",
        "    'Road_Surface': [2],       # Wet\n",
        "    'Light_Condition': [2],    # Night\n",
        "    'Driver_Age': [30],\n",
        "    'Num_of_Vehicles': [2]\n",
        "})\n",
        "\n",
        "# prediction\n",
        "predicted_severity = model.predict(new_data)\n",
        "print(f\"🚗 Predicted Accident Severity: {predicted_severity[0]:.2f}\")\n",
        "\n",
        "\n",
        "\n",
        "\n"
      ]
    }
  ]
}